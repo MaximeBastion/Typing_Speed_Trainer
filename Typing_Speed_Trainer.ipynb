{
 "cells": [
  {
   "cell_type": "markdown",
   "metadata": {},
   "source": [
    "# Typing Speed Trainer\n",
    "\n",
    "## Concept\n",
    "Program a game in which a player has to type randomly generated lines of code correctly, and as fast as possible.\n",
    "\n",
    "The program measures his performance. "
   ]
  },
  {
   "cell_type": "markdown",
   "metadata": {},
   "source": [
    "## Générer des lignes de code\n",
    "Nous pensons créer plusieurs modèles. Chaque modèle va générer une ligne de code type. Par ex:\n",
    "* Modèle de génération de signature de fonction\n",
    "* Modèle de génération d'affection\n",
    "* d'une boucle for\n",
    "* while\n"
   ]
  },
  {
   "cell_type": "markdown",
   "metadata": {},
   "source": [
    "## To Do\n",
    "* Build more code models\n",
    "* Adapt the code to put in on Repl.it\n",
    "\n",
    "## Done\n",
    "* Write some doc to explain the concept\n",
    "* Think about how to generate code lines\n",
    "* Build the game's logic\n",
    "* Upload on GitHub\n",
    "* Get more words to generate with\n",
    "* Use colors on feedback (red = took too long...)\n",
    "* Specify the proba of encountering each model (ex: affectation is more common than for loop)"
   ]
  },
  {
   "cell_type": "code",
   "execution_count": 38,
   "metadata": {},
   "outputs": [],
   "source": [
    "import random\n",
    "import time\n",
    "import pandas as pd\n",
    "import numpy as np"
   ]
  },
  {
   "cell_type": "code",
   "execution_count": 3,
   "metadata": {},
   "outputs": [],
   "source": [
    "class Constants:\n",
    "    N_MODELS = 10           # Number of code line generation models\n",
    "    DELAY_PER_CHAR = 0.65   # Seconds expected to type a char"
   ]
  },
  {
   "cell_type": "code",
   "execution_count": 4,
   "metadata": {},
   "outputs": [],
   "source": [
    "class Colors:\n",
    "    BLUE = '\\033[94m'\n",
    "    GREEN = '\\033[92m'\n",
    "    RED = '\\033[91m'\n",
    "    ENDC = '\\033[0m'"
   ]
  },
  {
   "cell_type": "markdown",
   "metadata": {},
   "source": [
    "## Génération des lignes de code"
   ]
  },
  {
   "cell_type": "markdown",
   "metadata": {},
   "source": [
    "### Mots pour nos lignes de code\n",
    "Pour générer des lignes de code à taper, il nous faut des listes de mots.\n",
    "Ultimement, il nous faudrait récupérer des listes \"exhaustives\" de mots."
   ]
  },
  {
   "cell_type": "code",
   "execution_count": 5,
   "metadata": {},
   "outputs": [],
   "source": [
    "def extract_word(s):\n",
    "    first_delimiter_index = s.index(\";\")\n",
    "    second_delimiter_index = s.index(\";\", 4)\n",
    "    return s[first_delimiter_index + 1:second_delimiter_index]"
   ]
  },
  {
   "cell_type": "code",
   "execution_count": 6,
   "metadata": {},
   "outputs": [],
   "source": [
    "# Extracts a list of words from a csv with occurences\n",
    "def extract_words_list(csv_name):\n",
    "    df = pd.read_csv(csv_name, header=None)\n",
    "    df.columns = [\"word\"]\n",
    "    df[\"word\"] = df[\"word\"].apply(extract_word)\n",
    "    return list(df[\"word\"])"
   ]
  },
  {
   "cell_type": "code",
   "execution_count": 7,
   "metadata": {},
   "outputs": [],
   "source": [
    "nouns = extract_words_list(\"100_nouns.csv\")\n",
    "verbs = extract_words_list(\"100_verbs.csv\")"
   ]
  },
  {
   "cell_type": "code",
   "execution_count": 8,
   "metadata": {},
   "outputs": [],
   "source": [
    "# arguments can be single chars or nouns\n",
    "arguments = [\"n\", \"x\", \"l\", \"e\"]\n",
    "for e in nouns:\n",
    "    arguments.append(e)"
   ]
  },
  {
   "cell_type": "code",
   "execution_count": 9,
   "metadata": {},
   "outputs": [],
   "source": [
    "libraries = [\"random\", \"time\", \"pandas\", \"matplotlib\", \"requests\", \"os\", \"numpy\"]"
   ]
  },
  {
   "cell_type": "markdown",
   "metadata": {},
   "source": [
    "### Fonctions utilitaires"
   ]
  },
  {
   "cell_type": "code",
   "execution_count": 10,
   "metadata": {},
   "outputs": [],
   "source": [
    "def pick_e_from_l(l):\n",
    "    return l[random.randint(0, len(l) - 1)]\n",
    "\n",
    "# picks an element at random from a list that is not in a second list\n",
    "def pick_new_e(l, blacklist):\n",
    "    e = pick_e_from_l(l)\n",
    "    while e in blacklist:\n",
    "        e = pick_e_from_l(l)\n",
    "    return e"
   ]
  },
  {
   "cell_type": "markdown",
   "metadata": {},
   "source": [
    "## Fonctions de génération de code\n",
    "\n",
    "### To Do\n",
    "\n",
    "### Done\n",
    "* Signature de fonction\n",
    "* Affectation\n",
    "* Boucle for\n",
    "* if\n",
    "* while\n",
    "* class: Class Game\n",
    "* import: import matplotlib as mpl\n",
    "* return: return data\n",
    "* print: print(data)\n",
    "* append: l.append(object)"
   ]
  },
  {
   "cell_type": "markdown",
   "metadata": {},
   "source": [
    "`\n",
    "def get_data(page, n):\n",
    "    data = 37\n",
    "    for i in range(5, 10):\n",
    "    for e in l:\n",
    "    if support > n:\n",
    "    while data >= 0:\n",
    "    class Game:\n",
    "    import pandas\n",
    "    return file\n",
    "    print(thing)\n",
    "    l.append(data)\n",
    "`\n",
    "\n",
    "`\n",
    "\n",
    "`"
   ]
  },
  {
   "cell_type": "code",
   "execution_count": 11,
   "metadata": {},
   "outputs": [],
   "source": [
    "# ex: get_data\n",
    "def generate_function_name():\n",
    "    return pick_e_from_l(verbs) + \"_\" + pick_e_from_l(nouns)"
   ]
  },
  {
   "cell_type": "code",
   "execution_count": 12,
   "metadata": {},
   "outputs": [],
   "source": [
    "# uses 0 to 3 arguments\n",
    "# ex: l, page\n",
    "def generate_arguments():\n",
    "    n_arguments = random.randint(0, 3)\n",
    "    if n_arguments == 0:\n",
    "        return \"\"\n",
    "    \n",
    "    chosen_arguments = []\n",
    "    for i in range(n_arguments):\n",
    "        argument = pick_new_e(arguments, chosen_arguments)\n",
    "        chosen_arguments.append(argument)\n",
    "    \n",
    "    arg_str = \"\"\n",
    "    for arg in chosen_arguments:\n",
    "        arg_str += arg + \", \"\n",
    "    return arg_str[:-2]"
   ]
  },
  {
   "cell_type": "code",
   "execution_count": 13,
   "metadata": {},
   "outputs": [
    {
     "data": {
      "text/plain": [
       "'def join_medium(process):'"
      ]
     },
     "execution_count": 13,
     "metadata": {},
     "output_type": "execute_result"
    }
   ],
   "source": [
    "# def [nom_fonction]([de 0 à 3 arguments]):\n",
    "# ex: def get_data(page, n):\n",
    "def generate_signature(): \n",
    "    return \"def \" + generate_function_name() + \"(\" + generate_arguments() + \"):\"\n",
    "\n",
    "generate_signature()"
   ]
  },
  {
   "cell_type": "code",
   "execution_count": 14,
   "metadata": {},
   "outputs": [],
   "source": [
    "# ex: data\n",
    "def generate_variable_name():\n",
    "    return pick_e_from_l(nouns)"
   ]
  },
  {
   "cell_type": "code",
   "execution_count": 15,
   "metadata": {},
   "outputs": [
    {
     "data": {
      "text/plain": [
       "'end = person'"
      ]
     },
     "execution_count": 15,
     "metadata": {},
     "output_type": "execute_result"
    }
   ],
   "source": [
    "# ex: data = 37\n",
    "# the right hand side can also be another variable\n",
    "def generate_affectation():\n",
    "    first_var_name = generate_variable_name()\n",
    "    line = first_var_name + \" = \"\n",
    "    if random.randint(0, 1) == 0:\n",
    "        second_var_name = generate_variable_name()\n",
    "        while first_var_name == second_var_name:\n",
    "            second_var_name = generate_variable_name()\n",
    "        line += second_var_name\n",
    "    else:\n",
    "        line += str(random.randint(0, 50))\n",
    "    return line\n",
    "\n",
    "generate_affectation()"
   ]
  },
  {
   "cell_type": "code",
   "execution_count": 16,
   "metadata": {},
   "outputs": [],
   "source": [
    "# returns a list of n integers, taken at random from possible_values\n",
    "def generate_integers(min_n, max_n, possible_values):\n",
    "    n = random.randint(min_n, max_n)\n",
    "    \n",
    "    ints = []\n",
    "    for i in range(n):\n",
    "        random_int = pick_new_e(possible_values, ints)\n",
    "        ints.append(random_int)\n",
    "    \n",
    "    return ints\n",
    "\n",
    "# generates a for loop with range having 1 or 2 values\n",
    "# ex: for i in range(5, 10):\n",
    "def generate_for_range(possible_variable_names=[\"i\", \"j\"], max_int_value=50):\n",
    "    output = \"for \" + pick_e_from_l(possible_variable_names) + \" in range(\"\n",
    "    range_numbers = str(generate_integers(1, 2, [i for i in range(1, max_int_value)]))[1:-1]\n",
    "    output += range_numbers + \"):\"\n",
    "    return output\n",
    "\n",
    "# ex: for e in l:\n",
    "def generate_for_e():\n",
    "    first_var_name = pick_e_from_l(arguments)\n",
    "    second_var_name = pick_new_e(nouns, [first_var_name])\n",
    "    return \"for \" + first_var_name + \" in \" + second_var_name + \":\"\n",
    "\n",
    "# returns a generated for range or for e\n",
    "def generate_for_loop():\n",
    "    return pick_e_from_l([generate_for_range(), generate_for_e()])"
   ]
  },
  {
   "cell_type": "code",
   "execution_count": 17,
   "metadata": {},
   "outputs": [],
   "source": [
    "# [variable] [symbol] [variable2 OU nombre]\n",
    "def generate_test():\n",
    "    first_variable = pick_e_from_l(nouns)\n",
    "    second_varialbe = pick_new_e(nouns, [first_variable])\n",
    "    symbol = pick_e_from_l([\"==\", \"!=\", \">\", \"<\"])\n",
    "    return first_variable + \" \" + symbol + \" \" + pick_e_from_l([second_varialbe, str(random.randint(0, 50))])\n",
    "\n",
    "def generate_if():\n",
    "    return \"if \" + generate_test() + \":\"\n",
    "\n",
    "def generate_while():\n",
    "    return \"while \" + generate_test() + \":\""
   ]
  },
  {
   "cell_type": "code",
   "execution_count": 18,
   "metadata": {},
   "outputs": [],
   "source": [
    "def capitalize_letter(char):\n",
    "    return chr(ord(char) - 32)\n",
    "\n",
    "# soustraire 32 au code ASCII pour passer en majuscule\n",
    "def generate_class_signature():\n",
    "    class_name = pick_e_from_l(nouns)\n",
    "    class_name = capitalize_letter(class_name[0]) + class_name[1:]\n",
    "    return \"class \" + class_name + \":\""
   ]
  },
  {
   "cell_type": "code",
   "execution_count": 19,
   "metadata": {},
   "outputs": [],
   "source": [
    "def generate_import():\n",
    "    return \"import \" + pick_e_from_l(libraries)"
   ]
  },
  {
   "cell_type": "code",
   "execution_count": 20,
   "metadata": {},
   "outputs": [],
   "source": [
    "def generate_return():\n",
    "    return \"return \" + pick_e_from_l(nouns)"
   ]
  },
  {
   "cell_type": "code",
   "execution_count": 21,
   "metadata": {},
   "outputs": [],
   "source": [
    "# [list].append([variable])\n",
    "def generate_append():\n",
    "    first_variable = pick_e_from_l(nouns)\n",
    "    second_varialbe = pick_new_e(nouns, [first_variable])\n",
    "    return first_variable + \".append(\" + second_varialbe + \")\""
   ]
  },
  {
   "cell_type": "code",
   "execution_count": 22,
   "metadata": {},
   "outputs": [],
   "source": [
    "def generate_print():\n",
    "    return \"print(\" + pick_e_from_l(nouns) + \")\""
   ]
  },
  {
   "cell_type": "code",
   "execution_count": 23,
   "metadata": {},
   "outputs": [
    {
     "data": {
      "text/plain": [
       "'print(hour)'"
      ]
     },
     "execution_count": 23,
     "metadata": {},
     "output_type": "execute_result"
    }
   ],
   "source": [
    "generate_print()"
   ]
  },
  {
   "cell_type": "code",
   "execution_count": 24,
   "metadata": {},
   "outputs": [],
   "source": [
    "class Code_generation_item:\n",
    "    \n",
    "    def __init__(self, code_line_type, generation_function, frequence_factor):\n",
    "        self.code_line_type = code_line_type\n",
    "        self.generation_function = generation_function\n",
    "        self.frequence_factor = frequence_factor"
   ]
  },
  {
   "cell_type": "markdown",
   "metadata": {},
   "source": [
    "def get_data(page, n):\n",
    "    data = 37\n",
    "    for i in range(5, 10):\n",
    "    for e in l:\n",
    "    if support > n:\n",
    "    while data >= 0:\n",
    "    class Game:\n",
    "    import pandas\n",
    "    return file\n",
    "    print(thing)\n",
    "    l.append(data)"
   ]
  },
  {
   "cell_type": "code",
   "execution_count": 25,
   "metadata": {},
   "outputs": [],
   "source": [
    "# 1 = very rare\n",
    "# 2 = rare\n",
    "# 5 = common\n",
    "code_generation_items = [\n",
    "    Code_generation_item(\"function_signature\", generate_signature, 3),\n",
    "    Code_generation_item(\"affectation\", generate_affectation, 5),\n",
    "    Code_generation_item(\"for_loop\", generate_for_loop, 2),\n",
    "    Code_generation_item(\"if\", generate_if, 4),\n",
    "    Code_generation_item(\"while\", generate_while, 1),\n",
    "    Code_generation_item(\"class\", generate_class_signature, 1),\n",
    "    Code_generation_item(\"import\", generate_import, 3),\n",
    "    Code_generation_item(\"return\", generate_return, 3),\n",
    "    Code_generation_item(\"print\", generate_print, 4),\n",
    "    Code_generation_item(\"append\", generate_append, 3)\n",
    "]"
   ]
  },
  {
   "cell_type": "code",
   "execution_count": 26,
   "metadata": {},
   "outputs": [],
   "source": [
    "# returns a list containing x copies of each generator name, where x is its frequency factor\n",
    "def get_generators_populated(code_generation_items):\n",
    "    output = []\n",
    "    for generator in code_generation_items:\n",
    "        for i in range(generator.frequence_factor):\n",
    "            output.append(generator.generation_function)\n",
    "    return output"
   ]
  },
  {
   "cell_type": "code",
   "execution_count": 27,
   "metadata": {},
   "outputs": [],
   "source": [
    "# Picks a model at random and uses it\n",
    "def generate_code_line():\n",
    "    generator_functions = get_generators_populated(code_generation_items)\n",
    "    chosen_function = pick_e_from_l(generator_functions)\n",
    "    return chosen_function()"
   ]
  },
  {
   "cell_type": "code",
   "execution_count": 28,
   "metadata": {},
   "outputs": [
    {
     "data": {
      "text/plain": [
       "'group = Google'"
      ]
     },
     "execution_count": 28,
     "metadata": {},
     "output_type": "execute_result"
    }
   ],
   "source": [
    "generate_code_line()"
   ]
  },
  {
   "cell_type": "markdown",
   "metadata": {},
   "source": [
    "## Logic du jeu"
   ]
  },
  {
   "cell_type": "code",
   "execution_count": 52,
   "metadata": {},
   "outputs": [],
   "source": [
    "def get_highlighted_errors(model, user_input):\n",
    "    error_string = \"\"\n",
    "    min_size = min(len(model), len(user_input))\n",
    "    for i in range(min_size):\n",
    "        if model[i] != user_input[i]:\n",
    "            error_string += Colors.RED\n",
    "            error_string += user_input[i]\n",
    "            error_string += Colors.ENDC\n",
    "        else:\n",
    "            error_string += user_input[i]\n",
    "    return error_string     "
   ]
  },
  {
   "cell_type": "code",
   "execution_count": 56,
   "metadata": {},
   "outputs": [],
   "source": [
    "# asks a value and measures the time the user takes\n",
    "# returns what the player wrote\n",
    "def timed_input(s):\n",
    "    start_time = time.time()\n",
    "    player_input = input(s + \"\\n\")\n",
    "    delay = time.time() - start_time\n",
    "    return player_input, delay\n",
    "    \n",
    "# Executes the complete logic to perform a code line typing\n",
    "def type_code_line():\n",
    "    score = -100\n",
    "    total_delay = 0\n",
    "    code_line = generate_code_line()\n",
    "    while score == -100:\n",
    "        player_input, delay = timed_input(code_line)\n",
    "        expected_delay = get_expected_delay(code_line)\n",
    "        total_delay += delay\n",
    "        score = get_feedback(code_line, player_input, expected_delay, total_delay)\n",
    "    return score\n",
    "    \n",
    "# returns an estimate of the time it would take to write this line of code\n",
    "def get_expected_delay(code_line):\n",
    "    return Constants.DELAY_PER_CHAR * len(code_line)\n",
    "\n",
    "# gives the player a feedback on his/her errors and timing\n",
    "def get_feedback(code_line, player_input, expected_delay, delay):\n",
    "    print()\n",
    "    typed_correctly = handle_typing_errors_feedback(code_line, player_input)\n",
    "    if not typed_correctly:\n",
    "        print(get_highlighted_errors(code_line, player_input))\n",
    "        return -100\n",
    "    return handle_time_feedback(delay, expected_delay)\n",
    "       \n",
    "def handle_typing_errors_feedback(code_line, player_input):\n",
    "    if code_line == player_input:\n",
    "        print(Colors.GREEN + \"You wrote it correctly\" + Colors.ENDC)\n",
    "        return True\n",
    "    else:\n",
    "        print(Colors.RED + \"You made at least one error\" + Colors.ENDC)\n",
    "        return False\n",
    "        \n",
    "def handle_time_feedback(delay, expected_delay):\n",
    "    print(\"You took \" + str(round(delay, 1)) + \"s to write it, we expected \"  + str(round(expected_delay, 1)) + \"s\")\n",
    "    \n",
    "    diff_percentage = round(abs(delay - expected_delay) / expected_delay * 100)\n",
    "    if delay < expected_delay:\n",
    "        print(Colors.GREEN + \"Good\" + Colors.ENDC)\n",
    "        print(\"You were \" + str(diff_percentage) + \"% faster than expected\")\n",
    "        return diff_percentage\n",
    "    else:\n",
    "        print(Colors.RED + \"Could be better\" + Colors.ENDC)\n",
    "        print(\"You were \" + str(diff_percentage) + \"% slower than expected\")\n",
    "        return - diff_percentage"
   ]
  },
  {
   "cell_type": "code",
   "execution_count": 57,
   "metadata": {},
   "outputs": [
    {
     "name": "stdout",
     "output_type": "stream",
     "text": [
      "import matplotlib\n",
      "impord matplotlib\n",
      "\n",
      "\u001b[91mYou made at least one error\u001b[0m\n",
      "impor\u001b[91md\u001b[0m matplotlib\n",
      "import matplotlib\n",
      "import matplotlib\n",
      "\n",
      "\u001b[92mYou wrote it correctly\u001b[0m\n",
      "You took 15.2s to write it, we expected 11.1s\n",
      "\u001b[91mCould be better\u001b[0m\n",
      "You were 37% slower than expected\n"
     ]
    },
    {
     "data": {
      "text/plain": [
       "-37"
      ]
     },
     "execution_count": 57,
     "metadata": {},
     "output_type": "execute_result"
    }
   ],
   "source": [
    "type_code_line()"
   ]
  },
  {
   "cell_type": "code",
   "execution_count": 41,
   "metadata": {},
   "outputs": [],
   "source": [
    "def mutliple_code_typing(n):\n",
    "    scores = []\n",
    "    for i in range(n):\n",
    "        print()\n",
    "        print(\"-\" * 20)\n",
    "        score = type_code_line()\n",
    "        scores.append(score)\n",
    "    return np.mean(scores)"
   ]
  },
  {
   "cell_type": "code",
   "execution_count": 64,
   "metadata": {},
   "outputs": [
    {
     "name": "stdout",
     "output_type": "stream",
     "text": [
      "cmd: type 2\n",
      "\n",
      "--------------------\n",
      "import time\n",
      "import time\n",
      "\n",
      "\u001b[92mYou wrote it correctly\u001b[0m\n",
      "You took 4.9s to write it, we expected 7.2s\n",
      "\u001b[92mGood\u001b[0m\n",
      "You were 32% faster than expected\n",
      "\n",
      "--------------------\n",
      "if post > 33:\n",
      "if post > 33:\n",
      "\n",
      "\u001b[92mYou wrote it correctly\u001b[0m\n",
      "You took 3.7s to write it, we expected 8.5s\n",
      "\u001b[92mGood\u001b[0m\n",
      "You were 56% faster than expected\n",
      "cmd: exit\n"
     ]
    }
   ],
   "source": [
    "running = True\n",
    "while running:\n",
    "    cmd = input(\"cmd: \")\n",
    "    cmd_elements = cmd.split(\" \")\n",
    "    cmd_name = cmd_elements[0]\n",
    "    if cmd_name == \"type\":\n",
    "        argument = cmd_elements[1]\n",
    "        mutliple_code_typing(int(argument))\n",
    "    if cmd_name == \"exit\":\n",
    "        running = False"
   ]
  }
 ],
 "metadata": {
  "kernelspec": {
   "display_name": "Python 3",
   "language": "python",
   "name": "python3"
  },
  "language_info": {
   "codemirror_mode": {
    "name": "ipython",
    "version": 3
   },
   "file_extension": ".py",
   "mimetype": "text/x-python",
   "name": "python",
   "nbconvert_exporter": "python",
   "pygments_lexer": "ipython3",
   "version": "3.7.4"
  }
 },
 "nbformat": 4,
 "nbformat_minor": 2
}
