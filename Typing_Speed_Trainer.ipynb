{
 "cells": [
  {
   "cell_type": "markdown",
   "metadata": {},
   "source": [
    "# Typing Speed Trainer\n",
    "\n",
    "## Concept\n",
    "Program a game in which a player has to type randomly generated lines of code correctly, and as fast as possible.\n",
    "\n",
    "The program measures his performance. "
   ]
  },
  {
   "cell_type": "markdown",
   "metadata": {},
   "source": [
    "## Générer des lignes de code\n",
    "Nous pensons créer plusieurs modèles. Chaque modèle va générer une ligne de code type. Par ex:\n",
    "* Modèle de génération de signature de fonction\n",
    "* Modèle de génération d'affection\n",
    "* d'une boucle for\n",
    "* while\n"
   ]
  },
  {
   "cell_type": "markdown",
   "metadata": {},
   "source": [
    "## To Do\n",
    "* Use colors on feedback (red = took too long...)\n",
    "* Make list names = variable name but plurial\n",
    "* Build more code models\n",
    "* Get more words to generate with\n",
    "* Specify the proba of encountering each model (ex: affectation is more common than for loop)\n",
    "* Adapt the code to put in on Repl.it\n",
    "\n",
    "## Done\n",
    "* Write some doc to explain the concept\n",
    "* Think about how to generate code lines\n",
    "* Build the game's logic\n",
    "* Upload on GitHub"
   ]
  },
  {
   "cell_type": "code",
   "execution_count": 1,
   "metadata": {},
   "outputs": [],
   "source": [
    "import random\n",
    "import time"
   ]
  },
  {
   "cell_type": "code",
   "execution_count": 2,
   "metadata": {},
   "outputs": [],
   "source": [
    "class Constants:\n",
    "    N_MODELS = 3            # Number of code line generation models\n",
    "    DELAY_PER_CHAR = 0.65   # Seconds expected to type a char"
   ]
  },
  {
   "cell_type": "markdown",
   "metadata": {},
   "source": [
    "## Génération des lignes de code"
   ]
  },
  {
   "cell_type": "markdown",
   "metadata": {},
   "source": [
    "### Mots pour nos lignes de code\n",
    "Pour générer des lignes de code à taper, il nous faut des listes de mots.\n",
    "Ultimement, il nous faudrait récupérer des listes \"exhaustives\" de mots."
   ]
  },
  {
   "cell_type": "code",
   "execution_count": 3,
   "metadata": {},
   "outputs": [],
   "source": [
    "verbs = [\"get\", \"set\", \"extract\", \"search\"]\n",
    "nouns = [\"data\", \"object\", \"page\"]\n",
    "\n",
    "# arguments can be single chars or nouns\n",
    "arguments = [\"n\", \"x\", \"l\", \"e\"]\n",
    "for e in nouns:\n",
    "    arguments.append(e)"
   ]
  },
  {
   "cell_type": "markdown",
   "metadata": {},
   "source": [
    "### Fonctions utilitaires"
   ]
  },
  {
   "cell_type": "code",
   "execution_count": 4,
   "metadata": {},
   "outputs": [],
   "source": [
    "def pick_e_from_l(l):\n",
    "    return l[random.randint(0, len(l) - 1)]\n",
    "\n",
    "# picks an element at random from a list that is not in a second list\n",
    "def pick_new_e(l, blacklist):\n",
    "    e = pick_e_from_l(l)\n",
    "    while e in blacklist:\n",
    "        e = pick_e_from_l(l)\n",
    "    return e"
   ]
  },
  {
   "cell_type": "markdown",
   "metadata": {},
   "source": [
    "## Fonctions de génération de code\n",
    "\n",
    "### To Do\n",
    "* while\n",
    "* class: Class Game\n",
    "* import: import matplotlib as mpl\n",
    "* return: return data\n",
    "* attribute affectation: self.data = object\n",
    "* print: print(data)\n",
    "* append: l.append(object)\n",
    "\n",
    "### Done\n",
    "* Signature de fonction\n",
    "* Affectation\n",
    "* Boucle for"
   ]
  },
  {
   "cell_type": "markdown",
   "metadata": {},
   "source": [
    "`\n",
    "def get_data(page, n):\n",
    "    data = 37\n",
    "    for i in range(5, 10):\n",
    "    for e in l:\n",
    "`\n",
    "\n",
    "`\n",
    "\n",
    "`"
   ]
  },
  {
   "cell_type": "code",
   "execution_count": 5,
   "metadata": {},
   "outputs": [],
   "source": [
    "# ex: get_data\n",
    "def generate_function_name():\n",
    "    return pick_e_from_l(verbs) + \"_\" + pick_e_from_l(nouns)"
   ]
  },
  {
   "cell_type": "code",
   "execution_count": 6,
   "metadata": {},
   "outputs": [],
   "source": [
    "# uses 0 to 3 arguments\n",
    "# ex: l, page\n",
    "def generate_arguments():\n",
    "    n_arguments = random.randint(0, 3)\n",
    "    if n_arguments == 0:\n",
    "        return \"\"\n",
    "    \n",
    "    chosen_arguments = []\n",
    "    for i in range(n_arguments):\n",
    "        argument = pick_new_e(arguments, chosen_arguments)\n",
    "        chosen_arguments.append(argument)\n",
    "    \n",
    "    arg_str = \"\"\n",
    "    for arg in chosen_arguments:\n",
    "        arg_str += arg + \", \"\n",
    "    return arg_str[:-2]"
   ]
  },
  {
   "cell_type": "code",
   "execution_count": 7,
   "metadata": {},
   "outputs": [
    {
     "data": {
      "text/plain": [
       "'def search_page():'"
      ]
     },
     "execution_count": 7,
     "metadata": {},
     "output_type": "execute_result"
    }
   ],
   "source": [
    "# def [nom_fonction]([de 0 à 3 arguments]):\n",
    "# ex: def get_data(page, n):\n",
    "def generate_signature(): \n",
    "    return \"def \" + generate_function_name() + \"(\" + generate_arguments() + \"):\"\n",
    "\n",
    "generate_signature()"
   ]
  },
  {
   "cell_type": "code",
   "execution_count": 8,
   "metadata": {},
   "outputs": [],
   "source": [
    "# ex: data\n",
    "def generate_variable_name():\n",
    "    return pick_e_from_l(nouns)"
   ]
  },
  {
   "cell_type": "code",
   "execution_count": 9,
   "metadata": {},
   "outputs": [
    {
     "data": {
      "text/plain": [
       "'data = object'"
      ]
     },
     "execution_count": 9,
     "metadata": {},
     "output_type": "execute_result"
    }
   ],
   "source": [
    "# ex: data = 37\n",
    "# the right hand side can also be another variable\n",
    "def generate_affectation():\n",
    "    first_var_name = generate_variable_name()\n",
    "    line = first_var_name + \" = \"\n",
    "    if random.randint(0, 1) == 0:\n",
    "        second_var_name = generate_variable_name()\n",
    "        while first_var_name == second_var_name:\n",
    "            second_var_name = generate_variable_name()\n",
    "        line += second_var_name\n",
    "    else:\n",
    "        line += str(random.randint(0, 50))\n",
    "    return line\n",
    "\n",
    "generate_affectation()"
   ]
  },
  {
   "cell_type": "code",
   "execution_count": 10,
   "metadata": {},
   "outputs": [],
   "source": [
    "# returns a list of n integers, taken at random from possible_values\n",
    "def generate_integers(min_n, max_n, possible_values):\n",
    "    n = random.randint(min_n, max_n)\n",
    "    \n",
    "    ints = []\n",
    "    for i in range(n):\n",
    "        random_int = pick_new_e(possible_values, ints)\n",
    "        ints.append(random_int)\n",
    "    \n",
    "    return ints\n",
    "\n",
    "# generates a for loop with range having 1 or 2 values\n",
    "# ex: for i in range(5, 10):\n",
    "def generate_for_range(possible_variable_names=[\"i\", \"j\"], max_int_value=50):\n",
    "    output = \"for \" + pick_e_from_l(possible_variable_names) + \" in range(\"\n",
    "    range_numbers = str(generate_integers(1, 2, [i for i in range(1, max_int_value)]))[1:-1]\n",
    "    output += range_numbers + \"):\"\n",
    "    return output\n",
    "\n",
    "# ex: for e in l:\n",
    "def generate_for_e():\n",
    "    first_var_name = pick_e_from_l(arguments)\n",
    "    second_var_name = pick_new_e(nouns, [first_var_name])\n",
    "    return \"for \" + first_var_name + \" in \" + second_var_name + \":\"\n",
    "\n",
    "# returns a generated for range or for e\n",
    "def generate_for_loop():\n",
    "    return pick_e_from_l([generate_for_range(), generate_for_e()])"
   ]
  },
  {
   "cell_type": "code",
   "execution_count": 11,
   "metadata": {},
   "outputs": [],
   "source": [
    "# Picks a model at random and uses it\n",
    "def generate_code_line():\n",
    "    random_index = random.randint(0, Constants.N_MODELS - 1)\n",
    "    if random_index == 0:\n",
    "        # function signature\n",
    "        return generate_signature()\n",
    "    elif random_index == 1:\n",
    "        # affectation\n",
    "        return generate_affectation()\n",
    "    elif random_index == 2:\n",
    "        # for loop\n",
    "        return generate_for_loop()"
   ]
  },
  {
   "cell_type": "code",
   "execution_count": 12,
   "metadata": {},
   "outputs": [
    {
     "data": {
      "text/plain": [
       "'def search_data():'"
      ]
     },
     "execution_count": 12,
     "metadata": {},
     "output_type": "execute_result"
    }
   ],
   "source": [
    "generate_code_line()"
   ]
  },
  {
   "cell_type": "markdown",
   "metadata": {},
   "source": [
    "## Logic du jeu"
   ]
  },
  {
   "cell_type": "code",
   "execution_count": 15,
   "metadata": {},
   "outputs": [],
   "source": [
    "# asks a value and measures the time the user takes\n",
    "# returns what the player wrote\n",
    "def timed_input(s):\n",
    "    start_time = time.time()\n",
    "    player_input = input(s + \"\\n\")\n",
    "    delay = time.time() - start_time\n",
    "    return player_input, delay\n",
    "    \n",
    "# Executes the complete logic to perform a code line typing\n",
    "def type_code_line():\n",
    "    code_line = generate_code_line()\n",
    "    player_input, delay = timed_input(code_line)\n",
    "    expected_delay = get_expected_delay(code_line)\n",
    "    get_feedback(code_line, player_input, expected_delay, delay)\n",
    "    \n",
    "# returns an estimate of the time it would take to write this line of code\n",
    "def get_expected_delay(code_line):\n",
    "    return Constants.DELAY_PER_CHAR * len(code_line)\n",
    "\n",
    "# gives the player a feedback on his/her errors and timing\n",
    "def get_feedback(code_line, player_input, expected_delay, delay):\n",
    "    print()\n",
    "    handle_typing_errors_feedback(code_line, player_input)\n",
    "    handle_time_feedback(delay, expected_delay)\n",
    "       \n",
    "def handle_typing_errors_feedback(code_line, player_input):\n",
    "    if code_line == player_input:\n",
    "        print(\"You wrote it correctly\")\n",
    "    else:\n",
    "        print(\"You made at least one error\")\n",
    "        \n",
    "def handle_time_feedback(delay, expected_delay):\n",
    "    print(\"You took \" + str(round(delay, 1)) + \"s to write it, we expected \"  + str(round(expected_delay, 1)) + \"s\")\n",
    "    \n",
    "    diff_percentage = round(abs(delay - expected_delay) / expected_delay * 100)\n",
    "    if delay < expected_delay:\n",
    "        print(\"Good\")\n",
    "        print(\"You were \" + str(diff_percentage) + \"% faster than expected\")\n",
    "    else:\n",
    "        print(\"Could be better\")\n",
    "        print(\"You were \" + str(diff_percentage) + \"% slower than expected\")"
   ]
  },
  {
   "cell_type": "code",
   "execution_count": 18,
   "metadata": {},
   "outputs": [
    {
     "name": "stdout",
     "output_type": "stream",
     "text": [
      "for j in range(20, 5):\n",
      "for j in range(20, 5):\n",
      "\n",
      "You wrote it correctly\n",
      "You took 37.8s to write it, we expected 14.3s\n",
      "Could be better\n",
      "You were 164% slower than expected\n"
     ]
    }
   ],
   "source": [
    "type_code_line()"
   ]
  },
  {
   "cell_type": "code",
   "execution_count": 235,
   "metadata": {},
   "outputs": [
    {
     "data": {
      "text/plain": [
       "'for object in data:'"
      ]
     },
     "execution_count": 235,
     "metadata": {},
     "output_type": "execute_result"
    }
   ],
   "source": [
    "generate_for_e()"
   ]
  }
 ],
 "metadata": {
  "kernelspec": {
   "display_name": "Python 3",
   "language": "python",
   "name": "python3"
  },
  "language_info": {
   "codemirror_mode": {
    "name": "ipython",
    "version": 3
   },
   "file_extension": ".py",
   "mimetype": "text/x-python",
   "name": "python",
   "nbconvert_exporter": "python",
   "pygments_lexer": "ipython3",
   "version": "3.7.4"
  }
 },
 "nbformat": 4,
 "nbformat_minor": 2
}
